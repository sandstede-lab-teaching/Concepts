{
 "cells": [
  {
   "cell_type": "markdown",
   "metadata": {},
   "source": [
    "### Convolution\n",
    "The convolution of two functions $f$ and $g$ is the function $f*g$ defined by\n",
    "$$(f*g)(x) := \\int_{-\\infty}^\\infty f(y) g(x-y)\\, dy.$$\n",
    "In this notebook, we explore the geometric meaning of the convolution using the interpretation of the integral as the area underneath the graph of the integrand. The figure below shows the graphs of $f(y)$ and $g(x-y)$ as functions of $y$ for a fixed value of $x$. The region under the graph of the product $f(y)g(x-y)$ for fixed $x$ is shaded in gray: the area of the shaded region is equal to the value of the convolution $(f*g)(x)$ evaluated at $x$. The slider on the bottom of the figure allows us to change $x$ and therefore to trace out the graph of the convolution $f*g$.   "
   ]
  },
  {
   "cell_type": "code",
   "execution_count": 24,
   "metadata": {},
   "outputs": [
    {
     "data": {
      "application/vnd.jupyter.widget-view+json": {
       "model_id": "e6a05668456c488fb3c7b26161ad08ba",
       "version_major": 2,
       "version_minor": 0
      },
      "text/plain": [
       "Canvas(toolbar=Toolbar(toolitems=[('Home', 'Reset original view', 'home', 'home'), ('Back', 'Back to previous …"
      ]
     },
     "metadata": {},
     "output_type": "display_data"
    },
    {
     "data": {
      "application/vnd.jupyter.widget-view+json": {
       "model_id": "e043566cc66d4017af20ab954264a672",
       "version_major": 2,
       "version_minor": 0
      },
      "text/plain": [
       "interactive(children=(FloatSlider(value=-5.0, description='x:', max=5.0, min=-5.0, step=0.01), Output()), _dom…"
      ]
     },
     "metadata": {},
     "output_type": "display_data"
    }
   ],
   "source": [
    "%matplotlib widget\n",
    "import ipywidgets as widgets\n",
    "import numpy as np\n",
    "import matplotlib.pyplot as plt\n",
    "import matplotlib.colors as colors\n",
    "from scipy import signal\n",
    "\n",
    "def func_square(x, w):\n",
    "    return np.heaviside(x+w, 0) - np.heaviside(x-w, 0)\n",
    "\n",
    "def func_triangle(x, w):\n",
    "    return (1-np.abs(x)/w)*func_square(x, w)\n",
    "\n",
    "def func_gaussian(x, w):\n",
    "    return np.exp(-x**2/(2*w**2))\n",
    "\n",
    "def update_graph(z):\n",
    "    global fillFG\n",
    "    k = int(z*N/L)\n",
    "    lineG.set_data(x, G[N-k:3*N-k])\n",
    "    lineConv.set_data(x[:k+N], Conv[:k+N])\n",
    "    pointConv.set_data(x[k+N-1], Conv[k+N-1])\n",
    "    fillFG.remove()\n",
    "    fillFG = ax.fill_between(x, 0, F*G[N-k:3*N-k], facecolor='tab:gray', alpha=0.5)\n",
    "\n",
    "L = 5\n",
    "N = 500\n",
    "x = np.linspace(-L, L, 2*N)\n",
    "dx = L/(N-1)\n",
    "\n",
    "F = func_triangle(x, 1)\n",
    "G = 0.8*func_gaussian(x, 0.5)\n",
    "\n",
    "Conv = np.convolve(F, G, mode='same')*dx\n",
    "G = np.pad(G, (N, N), 'constant')\n",
    "\n",
    "fig, ax = plt.subplots(1, 1, figsize=(8,4))\n",
    "ax.plot(x, F, c=\"tab:blue\", label='f(y)', linewidth='2')\n",
    "lineG, = ax.plot([], [], color=\"tab:green\", label='g(x-y)', linewidth='2')\n",
    "lineConv, = ax.plot([], [], color=\"tab:red\", label='Convolution (f*g)(y) for y≤x', linewidth='2')\n",
    "pointConv, = ax.plot([], [], 'o', markersize=7, color=\"tab:red\", label='(f*g)(x)')\n",
    "fillFG = ax.fill_between([], [], [], facecolor='tab:gray', alpha=0.5, label='f(y)g(x-y)')\n",
    "ax.set_xlabel('y')\n",
    "plt.legend()\n",
    "plt.tight_layout()\n",
    "plt.show()\n",
    "\n",
    "wi = widgets.interact(update_graph, z=widgets.FloatSlider(description='x:', value=-L, min=-L, max=L, step=L/N))"
   ]
  },
  {
   "cell_type": "markdown",
   "metadata": {},
   "source": [
    "### Properties of the convolution\n",
    "Note that the convolution is symmetric so that $f*g=g*f$. Indeed, we have:\n",
    "$$\n",
    "(f*g)(x) = \\int_{-\\infty}^\\infty f(y) g(x-y)\\, dy \\stackrel{z:=x-y}{=} \n",
    "\\int_{\\infty}^{-\\infty} f(x-z) g(z)\\, (-dz) = \\int_{-\\infty}^{\\infty} g(z) f(x-z) \\, dz = (g*f)(x).\n",
    "$$"
   ]
  },
  {
   "cell_type": "code",
   "execution_count": null,
   "metadata": {},
   "outputs": [],
   "source": []
  }
 ],
 "metadata": {
  "kernelspec": {
   "display_name": "Python 3",
   "language": "python",
   "name": "python3"
  },
  "language_info": {
   "codemirror_mode": {
    "name": "ipython",
    "version": 3
   },
   "file_extension": ".py",
   "mimetype": "text/x-python",
   "name": "python",
   "nbconvert_exporter": "python",
   "pygments_lexer": "ipython3",
   "version": "3.7.9"
  },
  "widgets": {
   "application/vnd.jupyter.widget-state+json": {
    "state": {
     "00b8cc3fd14844abb7d4f16f3cdfae05": {
      "model_module": "@jupyter-widgets/output",
      "model_module_version": "1.0.0",
      "model_name": "OutputModel",
      "state": {
       "layout": "IPY_MODEL_624f4d181fb34c4287cebc359ba5e3ed"
      }
     },
     "02ac5b9f563e4c36b306742bd07215ed": {
      "model_module": "@jupyter-widgets/output",
      "model_module_version": "1.0.0",
      "model_name": "OutputModel",
      "state": {
       "layout": "IPY_MODEL_114780c619004fe092c0a85ca6cfce16"
      }
     },
     "035461c72022499b8177e7c735f5ba14": {
      "model_module": "@jupyter-widgets/base",
      "model_module_version": "1.2.0",
      "model_name": "LayoutModel",
      "state": {}
     },
     "03a01974125e46d792b047c6087c41d8": {
      "model_module": "@jupyter-widgets/base",
      "model_module_version": "1.2.0",
      "model_name": "LayoutModel",
      "state": {}
     },
     "05d4f0e28bd9446ea8967871f3ccbc02": {
      "model_module": "jupyter-matplotlib",
      "model_module_version": "^0.7.4",
      "model_name": "ToolbarModel",
      "state": {
       "layout": "IPY_MODEL_7f30cb59db4c4e27b5e2eda25fc1049f",
       "toolitems": [
        [
         "Home",
         "Reset original view",
         "home",
         "home"
        ],
        [
         "Back",
         "Back to previous view",
         "arrow-left",
         "back"
        ],
        [
         "Forward",
         "Forward to next view",
         "arrow-right",
         "forward"
        ],
        [
         "Pan",
         "Left button pans, Right button zooms\nx/y fixes axis, CTRL fixes aspect",
         "arrows",
         "pan"
        ],
        [
         "Zoom",
         "Zoom to rectangle\nx/y fixes axis, CTRL fixes aspect",
         "square-o",
         "zoom"
        ],
        [
         "Download",
         "Download plot",
         "floppy-o",
         "save_figure"
        ]
       ]
      }
     },
     "05db15619e3a46a9b1ee8d42d5e8b1a1": {
      "model_module": "@jupyter-widgets/base",
      "model_module_version": "1.2.0",
      "model_name": "LayoutModel",
      "state": {}
     },
     "05e1eb7bd1464b728b47ce3f8f261ca7": {
      "model_module": "@jupyter-widgets/base",
      "model_module_version": "1.2.0",
      "model_name": "LayoutModel",
      "state": {}
     },
     "069c855391b6404fad73eb96687c17d2": {
      "model_module": "@jupyter-widgets/base",
      "model_module_version": "1.2.0",
      "model_name": "LayoutModel",
      "state": {}
     },
     "06ebd465e8404485b416e21fc32f1dea": {
      "model_module": "@jupyter-widgets/base",
      "model_module_version": "1.2.0",
      "model_name": "LayoutModel",
      "state": {}
     },
     "07c5c39aaa1b4d189e9872d2147b9cd9": {
      "model_module": "@jupyter-widgets/base",
      "model_module_version": "1.2.0",
      "model_name": "LayoutModel",
      "state": {}
     },
     "0991059bea884d168d48b42bddbb2bb3": {
      "model_module": "jupyter-matplotlib",
      "model_module_version": "^0.7.4",
      "model_name": "ToolbarModel",
      "state": {
       "layout": "IPY_MODEL_4b9e5bf1b27e4b5e888b471c951c5559",
       "toolitems": [
        [
         "Home",
         "Reset original view",
         "home",
         "home"
        ],
        [
         "Back",
         "Back to previous view",
         "arrow-left",
         "back"
        ],
        [
         "Forward",
         "Forward to next view",
         "arrow-right",
         "forward"
        ],
        [
         "Pan",
         "Left button pans, Right button zooms\nx/y fixes axis, CTRL fixes aspect",
         "arrows",
         "pan"
        ],
        [
         "Zoom",
         "Zoom to rectangle\nx/y fixes axis, CTRL fixes aspect",
         "square-o",
         "zoom"
        ],
        [
         "Download",
         "Download plot",
         "floppy-o",
         "save_figure"
        ]
       ]
      }
     },
     "0b0a55241a4c4755b91878b7029d0259": {
      "model_module": "@jupyter-widgets/output",
      "model_module_version": "1.0.0",
      "model_name": "OutputModel",
      "state": {
       "layout": "IPY_MODEL_2b133383dc5a41df972d9a402c4bb67b"
      }
     },
     "0b90bfe3a18644dabc5c4c0a0754595b": {
      "model_module": "@jupyter-widgets/controls",
      "model_module_version": "1.5.0",
      "model_name": "VBoxModel",
      "state": {
       "_dom_classes": [
        "widget-interact"
       ],
       "children": [
        "IPY_MODEL_ea33c399a9444d86813bebf4bb24bbd0",
        "IPY_MODEL_02ac5b9f563e4c36b306742bd07215ed"
       ],
       "layout": "IPY_MODEL_4557c5955c8c45dc9a73650fbfdd17c5"
      }
     },
     "0bf984889c784af39cec2edaa3d42888": {
      "model_module": "@jupyter-widgets/base",
      "model_module_version": "1.2.0",
      "model_name": "LayoutModel",
      "state": {}
     },
     "0d00106f45b64f23bcf2dacd2f17c198": {
      "model_module": "@jupyter-widgets/base",
      "model_module_version": "1.2.0",
      "model_name": "LayoutModel",
      "state": {}
     },
     "0e7b1a0a0ac949b78f3645e068359b8f": {
      "model_module": "@jupyter-widgets/controls",
      "model_module_version": "1.5.0",
      "model_name": "FloatSliderModel",
      "state": {
       "description": "x:",
       "layout": "IPY_MODEL_a9736427024a49fc87855b2744666074",
       "max": 5,
       "min": -5,
       "step": 0.01,
       "style": "IPY_MODEL_8179036326774092906a3d55f6c83a7b",
       "value": -2.06
      }
     },
     "0f633ce7c3ff4bcdafa9fbf7d3e5cd71": {
      "model_module": "jupyter-matplotlib",
      "model_module_version": "^0.7.4",
      "model_name": "ToolbarModel",
      "state": {
       "layout": "IPY_MODEL_3f7be8b86db6455c96155138e0ce7279",
       "toolitems": [
        [
         "Home",
         "Reset original view",
         "home",
         "home"
        ],
        [
         "Back",
         "Back to previous view",
         "arrow-left",
         "back"
        ],
        [
         "Forward",
         "Forward to next view",
         "arrow-right",
         "forward"
        ],
        [
         "Pan",
         "Left button pans, Right button zooms\nx/y fixes axis, CTRL fixes aspect",
         "arrows",
         "pan"
        ],
        [
         "Zoom",
         "Zoom to rectangle\nx/y fixes axis, CTRL fixes aspect",
         "square-o",
         "zoom"
        ],
        [
         "Download",
         "Download plot",
         "floppy-o",
         "save_figure"
        ]
       ]
      }
     },
     "114780c619004fe092c0a85ca6cfce16": {
      "model_module": "@jupyter-widgets/base",
      "model_module_version": "1.2.0",
      "model_name": "LayoutModel",
      "state": {}
     },
     "125a76ff344b4b0f9f37ec775a6b47ee": {
      "model_module": "@jupyter-widgets/output",
      "model_module_version": "1.0.0",
      "model_name": "OutputModel",
      "state": {
       "layout": "IPY_MODEL_05e1eb7bd1464b728b47ce3f8f261ca7"
      }
     },
     "12fb70b0b93f4c4995eba2be6e69080c": {
      "model_module": "@jupyter-widgets/base",
      "model_module_version": "1.2.0",
      "model_name": "LayoutModel",
      "state": {}
     },
     "13d59e8cea0543e8a03ffa63ad39658e": {
      "model_module": "@jupyter-widgets/base",
      "model_module_version": "1.2.0",
      "model_name": "LayoutModel",
      "state": {}
     },
     "148a8bae4a074b098469814f79652d27": {
      "model_module": "jupyter-matplotlib",
      "model_module_version": "^0.7.4",
      "model_name": "ToolbarModel",
      "state": {
       "layout": "IPY_MODEL_542ac5d459444f63a9e643c89746dd6b",
       "toolitems": [
        [
         "Home",
         "Reset original view",
         "home",
         "home"
        ],
        [
         "Back",
         "Back to previous view",
         "arrow-left",
         "back"
        ],
        [
         "Forward",
         "Forward to next view",
         "arrow-right",
         "forward"
        ],
        [
         "Pan",
         "Left button pans, Right button zooms\nx/y fixes axis, CTRL fixes aspect",
         "arrows",
         "pan"
        ],
        [
         "Zoom",
         "Zoom to rectangle\nx/y fixes axis, CTRL fixes aspect",
         "square-o",
         "zoom"
        ],
        [
         "Download",
         "Download plot",
         "floppy-o",
         "save_figure"
        ]
       ]
      }
     },
     "184b95ac9c8d45689441c6154d40bbee": {
      "model_module": "jupyter-matplotlib",
      "model_module_version": "^0.7.4",
      "model_name": "ToolbarModel",
      "state": {
       "layout": "IPY_MODEL_22fd5a791dd149ad9a33b7a327359d04",
       "toolitems": [
        [
         "Home",
         "Reset original view",
         "home",
         "home"
        ],
        [
         "Back",
         "Back to previous view",
         "arrow-left",
         "back"
        ],
        [
         "Forward",
         "Forward to next view",
         "arrow-right",
         "forward"
        ],
        [
         "Pan",
         "Left button pans, Right button zooms\nx/y fixes axis, CTRL fixes aspect",
         "arrows",
         "pan"
        ],
        [
         "Zoom",
         "Zoom to rectangle\nx/y fixes axis, CTRL fixes aspect",
         "square-o",
         "zoom"
        ],
        [
         "Download",
         "Download plot",
         "floppy-o",
         "save_figure"
        ]
       ]
      }
     },
     "1895bee9e4b842b2a878a7cda945c273": {
      "model_module": "@jupyter-widgets/base",
      "model_module_version": "1.2.0",
      "model_name": "LayoutModel",
      "state": {}
     },
     "18a3ba3920e0483f9f8e8dfbaf8864d4": {
      "model_module": "@jupyter-widgets/base",
      "model_module_version": "1.2.0",
      "model_name": "LayoutModel",
      "state": {}
     },
     "18ab3a485ae84bcca7dd3becdc4c7198": {
      "model_module": "@jupyter-widgets/controls",
      "model_module_version": "1.5.0",
      "model_name": "VBoxModel",
      "state": {
       "_dom_classes": [
        "widget-interact"
       ],
       "children": [
        "IPY_MODEL_829473f61422467289ba49e4b1218616",
        "IPY_MODEL_0b0a55241a4c4755b91878b7029d0259"
       ],
       "layout": "IPY_MODEL_53555e089c3541528f32dd5139385c46"
      }
     },
     "1a436dbb02334925836603ca5d403506": {
      "model_module": "@jupyter-widgets/controls",
      "model_module_version": "1.5.0",
      "model_name": "SliderStyleModel",
      "state": {
       "description_width": ""
      }
     },
     "1ba6106511244f29807536c7e94ca5ee": {
      "model_module": "@jupyter-widgets/output",
      "model_module_version": "1.0.0",
      "model_name": "OutputModel",
      "state": {
       "layout": "IPY_MODEL_3f8c2a1c6cb446c7af9dbad724639458"
      }
     },
     "1da0097bd35e46e8a56328ce78898ebc": {
      "model_module": "@jupyter-widgets/base",
      "model_module_version": "1.2.0",
      "model_name": "LayoutModel",
      "state": {}
     },
     "1e32dcfe96644ad7a35cf9a6c65146f4": {
      "model_module": "@jupyter-widgets/base",
      "model_module_version": "1.2.0",
      "model_name": "LayoutModel",
      "state": {}
     },
     "1e58378455564414811536ebe0591d38": {
      "model_module": "@jupyter-widgets/base",
      "model_module_version": "1.2.0",
      "model_name": "LayoutModel",
      "state": {}
     },
     "214cc2e5316d4487a84892b1b9db4f44": {
      "model_module": "@jupyter-widgets/output",
      "model_module_version": "1.0.0",
      "model_name": "OutputModel",
      "state": {
       "layout": "IPY_MODEL_1e58378455564414811536ebe0591d38"
      }
     },
     "22fd5a791dd149ad9a33b7a327359d04": {
      "model_module": "@jupyter-widgets/base",
      "model_module_version": "1.2.0",
      "model_name": "LayoutModel",
      "state": {}
     },
     "26467d1800824f48a9e4d96caa0dabfe": {
      "model_module": "@jupyter-widgets/base",
      "model_module_version": "1.2.0",
      "model_name": "LayoutModel",
      "state": {}
     },
     "26521e56c6c54624af7142177154d453": {
      "model_module": "@jupyter-widgets/base",
      "model_module_version": "1.2.0",
      "model_name": "LayoutModel",
      "state": {}
     },
     "286bd8fa630a420eb6c56cf04d144d6d": {
      "model_module": "@jupyter-widgets/base",
      "model_module_version": "1.2.0",
      "model_name": "LayoutModel",
      "state": {}
     },
     "2b133383dc5a41df972d9a402c4bb67b": {
      "model_module": "@jupyter-widgets/base",
      "model_module_version": "1.2.0",
      "model_name": "LayoutModel",
      "state": {}
     },
     "2dc4e105b4c642a7ad2f9b90c06586f3": {
      "model_module": "@jupyter-widgets/base",
      "model_module_version": "1.2.0",
      "model_name": "LayoutModel",
      "state": {}
     },
     "2eca35feec8e4b62a92bfa84296a5b9c": {
      "model_module": "@jupyter-widgets/base",
      "model_module_version": "1.2.0",
      "model_name": "LayoutModel",
      "state": {}
     },
     "303b675b6cb64ef49c630a586a15e196": {
      "model_module": "@jupyter-widgets/controls",
      "model_module_version": "1.5.0",
      "model_name": "VBoxModel",
      "state": {
       "_dom_classes": [
        "widget-interact"
       ],
       "children": [
        "IPY_MODEL_b261d22326454556abb8ba9c44a92de3",
        "IPY_MODEL_125a76ff344b4b0f9f37ec775a6b47ee"
       ],
       "layout": "IPY_MODEL_916bc8141dd34af8af507bd2ad4ef40d"
      }
     },
     "346392f196e54e2fa2dfd8f1b8f7cae6": {
      "model_module": "@jupyter-widgets/controls",
      "model_module_version": "1.5.0",
      "model_name": "SliderStyleModel",
      "state": {
       "description_width": ""
      }
     },
     "349778c385d24f69869e31ed1018d37a": {
      "model_module": "@jupyter-widgets/controls",
      "model_module_version": "1.5.0",
      "model_name": "FloatSliderModel",
      "state": {
       "description": "x:",
       "layout": "IPY_MODEL_26467d1800824f48a9e4d96caa0dabfe",
       "max": 5,
       "min": -5,
       "step": 0.01,
       "style": "IPY_MODEL_e6decd77ddfe4ef48b6f425e1202183e",
       "value": 3.02
      }
     },
     "359a36476af045bea09ac192c8d97f38": {
      "model_module": "@jupyter-widgets/controls",
      "model_module_version": "1.5.0",
      "model_name": "SliderStyleModel",
      "state": {
       "description_width": ""
      }
     },
     "368dd2c82a2440e498391461b0b35991": {
      "model_module": "@jupyter-widgets/controls",
      "model_module_version": "1.5.0",
      "model_name": "VBoxModel",
      "state": {
       "_dom_classes": [
        "widget-interact"
       ],
       "children": [
        "IPY_MODEL_cc6228d28c374ba093ba9edd04040a27",
        "IPY_MODEL_d7d87b6c4f114435b2fe475c2f3ae5e7"
       ],
       "layout": "IPY_MODEL_2eca35feec8e4b62a92bfa84296a5b9c"
      }
     },
     "36a68c8a98b049acbcbb0ff81a3826be": {
      "model_module": "@jupyter-widgets/controls",
      "model_module_version": "1.5.0",
      "model_name": "FloatSliderModel",
      "state": {
       "description": "x:",
       "layout": "IPY_MODEL_5596eb1e7b2d4712846d2333901a3a3f",
       "max": 5,
       "min": -5,
       "step": 0.01,
       "style": "IPY_MODEL_4c561cd3be854645a2a50ef0fa0655fe",
       "value": 1.81
      }
     },
     "36c0ffe229354456b8e99864e85bf502": {
      "model_module": "@jupyter-widgets/base",
      "model_module_version": "1.2.0",
      "model_name": "LayoutModel",
      "state": {}
     },
     "38c90ffc223248f1bde701c05dea7ebf": {
      "model_module": "@jupyter-widgets/base",
      "model_module_version": "1.2.0",
      "model_name": "LayoutModel",
      "state": {}
     },
     "394f5d1a1de940babc3e69fbbe9d91c3": {
      "model_module": "@jupyter-widgets/base",
      "model_module_version": "1.2.0",
      "model_name": "LayoutModel",
      "state": {}
     },
     "3a6553c31c554573a3b6087caf851e1c": {
      "model_module": "@jupyter-widgets/base",
      "model_module_version": "1.2.0",
      "model_name": "LayoutModel",
      "state": {}
     },
     "3bf5fde4c0ad414aa14ceb33bec0fe19": {
      "model_module": "@jupyter-widgets/controls",
      "model_module_version": "1.5.0",
      "model_name": "VBoxModel",
      "state": {
       "_dom_classes": [
        "widget-interact"
       ],
       "children": [
        "IPY_MODEL_36a68c8a98b049acbcbb0ff81a3826be",
        "IPY_MODEL_00b8cc3fd14844abb7d4f16f3cdfae05"
       ],
       "layout": "IPY_MODEL_bcadb1992f91427ea742a7e5084e04eb"
      }
     },
     "3d110a2fc00b442daf2ac7b936673cf9": {
      "model_module": "@jupyter-widgets/controls",
      "model_module_version": "1.5.0",
      "model_name": "SliderStyleModel",
      "state": {
       "description_width": ""
      }
     },
     "3d98f46f32bc4e0f802778485e5fc50e": {
      "model_module": "@jupyter-widgets/base",
      "model_module_version": "1.2.0",
      "model_name": "LayoutModel",
      "state": {}
     },
     "3e8d414cf6754602a7fa3f911a594010": {
      "model_module": "jupyter-matplotlib",
      "model_module_version": "^0.7.4",
      "model_name": "ToolbarModel",
      "state": {
       "layout": "IPY_MODEL_36c0ffe229354456b8e99864e85bf502",
       "toolitems": [
        [
         "Home",
         "Reset original view",
         "home",
         "home"
        ],
        [
         "Back",
         "Back to previous view",
         "arrow-left",
         "back"
        ],
        [
         "Forward",
         "Forward to next view",
         "arrow-right",
         "forward"
        ],
        [
         "Pan",
         "Left button pans, Right button zooms\nx/y fixes axis, CTRL fixes aspect",
         "arrows",
         "pan"
        ],
        [
         "Zoom",
         "Zoom to rectangle\nx/y fixes axis, CTRL fixes aspect",
         "square-o",
         "zoom"
        ],
        [
         "Download",
         "Download plot",
         "floppy-o",
         "save_figure"
        ]
       ]
      }
     },
     "3f7be8b86db6455c96155138e0ce7279": {
      "model_module": "@jupyter-widgets/base",
      "model_module_version": "1.2.0",
      "model_name": "LayoutModel",
      "state": {}
     },
     "3f8c2a1c6cb446c7af9dbad724639458": {
      "model_module": "@jupyter-widgets/base",
      "model_module_version": "1.2.0",
      "model_name": "LayoutModel",
      "state": {}
     },
     "3f8d0e5834594ee1adcd72ea36190b52": {
      "model_module": "jupyter-matplotlib",
      "model_module_version": "^0.7.4",
      "model_name": "ToolbarModel",
      "state": {
       "layout": "IPY_MODEL_83f341e1c0b34ebbb63b778da55c35b9",
       "toolitems": [
        [
         "Home",
         "Reset original view",
         "home",
         "home"
        ],
        [
         "Back",
         "Back to previous view",
         "arrow-left",
         "back"
        ],
        [
         "Forward",
         "Forward to next view",
         "arrow-right",
         "forward"
        ],
        [
         "Pan",
         "Left button pans, Right button zooms\nx/y fixes axis, CTRL fixes aspect",
         "arrows",
         "pan"
        ],
        [
         "Zoom",
         "Zoom to rectangle\nx/y fixes axis, CTRL fixes aspect",
         "square-o",
         "zoom"
        ],
        [
         "Download",
         "Download plot",
         "floppy-o",
         "save_figure"
        ]
       ]
      }
     },
     "415a4e729e8648ee8114497660ce0f68": {
      "model_module": "@jupyter-widgets/base",
      "model_module_version": "1.2.0",
      "model_name": "LayoutModel",
      "state": {}
     },
     "44563983c444435a98bc6c00e8231a95": {
      "model_module": "@jupyter-widgets/controls",
      "model_module_version": "1.5.0",
      "model_name": "SliderStyleModel",
      "state": {
       "description_width": ""
      }
     },
     "4557c5955c8c45dc9a73650fbfdd17c5": {
      "model_module": "@jupyter-widgets/base",
      "model_module_version": "1.2.0",
      "model_name": "LayoutModel",
      "state": {}
     },
     "47417a31df6c469a8cfac919b2fdc31a": {
      "model_module": "@jupyter-widgets/controls",
      "model_module_version": "1.5.0",
      "model_name": "VBoxModel",
      "state": {
       "_dom_classes": [
        "widget-interact"
       ],
       "children": [
        "IPY_MODEL_6e07fe3d2455405ba826b2971cfcc2f7",
        "IPY_MODEL_e7369289c8d541a4a1935f2b55c649ef"
       ],
       "layout": "IPY_MODEL_6d492afc60404c6bbde1faf921b867a0"
      }
     },
     "4768771dc82d4989a2681ea5e3017d29": {
      "model_module": "@jupyter-widgets/base",
      "model_module_version": "1.2.0",
      "model_name": "LayoutModel",
      "state": {}
     },
     "478f767dcb5c43beaa64b57bb1ce51fd": {
      "model_module": "@jupyter-widgets/output",
      "model_module_version": "1.0.0",
      "model_name": "OutputModel",
      "state": {
       "layout": "IPY_MODEL_07c5c39aaa1b4d189e9872d2147b9cd9"
      }
     },
     "48b224c307b24fc09d516ffe5d505862": {
      "model_module": "jupyter-matplotlib",
      "model_module_version": "^0.7.4",
      "model_name": "ToolbarModel",
      "state": {
       "layout": "IPY_MODEL_aa8d0ceb500048739b1791a48a88f537",
       "toolitems": [
        [
         "Home",
         "Reset original view",
         "home",
         "home"
        ],
        [
         "Back",
         "Back to previous view",
         "arrow-left",
         "back"
        ],
        [
         "Forward",
         "Forward to next view",
         "arrow-right",
         "forward"
        ],
        [
         "Pan",
         "Left button pans, Right button zooms\nx/y fixes axis, CTRL fixes aspect",
         "arrows",
         "pan"
        ],
        [
         "Zoom",
         "Zoom to rectangle\nx/y fixes axis, CTRL fixes aspect",
         "square-o",
         "zoom"
        ],
        [
         "Download",
         "Download plot",
         "floppy-o",
         "save_figure"
        ]
       ]
      }
     },
     "48bb2570d5e34e9aa250c98eed4f0f04": {
      "model_module": "@jupyter-widgets/base",
      "model_module_version": "1.2.0",
      "model_name": "LayoutModel",
      "state": {}
     },
     "497ac36697f44637bc695db8b8dc8ae6": {
      "model_module": "@jupyter-widgets/base",
      "model_module_version": "1.2.0",
      "model_name": "LayoutModel",
      "state": {}
     },
     "4a957b6655db4b5493cb7538bec3cb3b": {
      "model_module": "@jupyter-widgets/base",
      "model_module_version": "1.2.0",
      "model_name": "LayoutModel",
      "state": {}
     },
     "4b9e5bf1b27e4b5e888b471c951c5559": {
      "model_module": "@jupyter-widgets/base",
      "model_module_version": "1.2.0",
      "model_name": "LayoutModel",
      "state": {}
     },
     "4c561cd3be854645a2a50ef0fa0655fe": {
      "model_module": "@jupyter-widgets/controls",
      "model_module_version": "1.5.0",
      "model_name": "SliderStyleModel",
      "state": {
       "description_width": ""
      }
     },
     "4d34c813c5914c68993ecc42902525fb": {
      "model_module": "@jupyter-widgets/base",
      "model_module_version": "1.2.0",
      "model_name": "LayoutModel",
      "state": {}
     },
     "4e1696c6285c44258e8531d86ef590f2": {
      "model_module": "@jupyter-widgets/base",
      "model_module_version": "1.2.0",
      "model_name": "LayoutModel",
      "state": {}
     },
     "4e4d28146d2044d2a7b2b2715987badd": {
      "model_module": "@jupyter-widgets/base",
      "model_module_version": "1.2.0",
      "model_name": "LayoutModel",
      "state": {}
     },
     "5160e1bbc66b47c8949cd0f02253475d": {
      "model_module": "@jupyter-widgets/controls",
      "model_module_version": "1.5.0",
      "model_name": "SliderStyleModel",
      "state": {
       "description_width": ""
      }
     },
     "520442d35ff542d087caa6016572725d": {
      "model_module": "@jupyter-widgets/output",
      "model_module_version": "1.0.0",
      "model_name": "OutputModel",
      "state": {
       "layout": "IPY_MODEL_0d00106f45b64f23bcf2dacd2f17c198"
      }
     },
     "527bad193b08408a9aa44f597ae335a6": {
      "model_module": "@jupyter-widgets/base",
      "model_module_version": "1.2.0",
      "model_name": "LayoutModel",
      "state": {}
     },
     "53555e089c3541528f32dd5139385c46": {
      "model_module": "@jupyter-widgets/base",
      "model_module_version": "1.2.0",
      "model_name": "LayoutModel",
      "state": {}
     },
     "542ac5d459444f63a9e643c89746dd6b": {
      "model_module": "@jupyter-widgets/base",
      "model_module_version": "1.2.0",
      "model_name": "LayoutModel",
      "state": {}
     },
     "5596eb1e7b2d4712846d2333901a3a3f": {
      "model_module": "@jupyter-widgets/base",
      "model_module_version": "1.2.0",
      "model_name": "LayoutModel",
      "state": {}
     },
     "559bbfe14afa4c009976e142a3f1f9b3": {
      "model_module": "@jupyter-widgets/base",
      "model_module_version": "1.2.0",
      "model_name": "LayoutModel",
      "state": {}
     },
     "559c14aec4d94868b2a975fe60a5b298": {
      "model_module": "@jupyter-widgets/controls",
      "model_module_version": "1.5.0",
      "model_name": "FloatSliderModel",
      "state": {
       "description": "x:",
       "layout": "IPY_MODEL_b60b8c89e534483fb96a7cd1ba2f0810",
       "max": 5,
       "min": -5,
       "step": 0.01,
       "style": "IPY_MODEL_3d110a2fc00b442daf2ac7b936673cf9",
       "value": -3.11
      }
     },
     "564b4ba4aaee47f4b0329f9397981c68": {
      "model_module": "@jupyter-widgets/output",
      "model_module_version": "1.0.0",
      "model_name": "OutputModel",
      "state": {
       "layout": "IPY_MODEL_497ac36697f44637bc695db8b8dc8ae6"
      }
     },
     "57a03d484be04d9b8b402e274a961173": {
      "model_module": "@jupyter-widgets/output",
      "model_module_version": "1.0.0",
      "model_name": "OutputModel",
      "state": {
       "layout": "IPY_MODEL_035461c72022499b8177e7c735f5ba14"
      }
     },
     "57f4e3f387fb48d393f818c49e3e840a": {
      "model_module": "jupyter-matplotlib",
      "model_module_version": "^0.7.4",
      "model_name": "ToolbarModel",
      "state": {
       "layout": "IPY_MODEL_806ee2082e9d4a50a72e48d1a8537249",
       "toolitems": [
        [
         "Home",
         "Reset original view",
         "home",
         "home"
        ],
        [
         "Back",
         "Back to previous view",
         "arrow-left",
         "back"
        ],
        [
         "Forward",
         "Forward to next view",
         "arrow-right",
         "forward"
        ],
        [
         "Pan",
         "Left button pans, Right button zooms\nx/y fixes axis, CTRL fixes aspect",
         "arrows",
         "pan"
        ],
        [
         "Zoom",
         "Zoom to rectangle\nx/y fixes axis, CTRL fixes aspect",
         "square-o",
         "zoom"
        ],
        [
         "Download",
         "Download plot",
         "floppy-o",
         "save_figure"
        ]
       ]
      }
     },
     "5a8e5639643742379462489e0d0a9486": {
      "model_module": "@jupyter-widgets/controls",
      "model_module_version": "1.5.0",
      "model_name": "FloatSliderModel",
      "state": {
       "description": "x:",
       "layout": "IPY_MODEL_cc764975271b4bdaa49338ef9bd8906d",
       "max": 5,
       "min": -5,
       "step": 0.01,
       "style": "IPY_MODEL_e3e5a25decf64ecfa3d483270b8468a8",
       "value": -1.1
      }
     },
     "5c281b6914d94fb9ac5fbc6d42df7f8d": {
      "model_module": "@jupyter-widgets/controls",
      "model_module_version": "1.5.0",
      "model_name": "SliderStyleModel",
      "state": {
       "description_width": ""
      }
     },
     "5c3f3c2cc1b2487587ffd16ed7d5269f": {
      "model_module": "@jupyter-widgets/output",
      "model_module_version": "1.0.0",
      "model_name": "OutputModel",
      "state": {
       "layout": "IPY_MODEL_815d572ff09843448de25c8212cda0f2"
      }
     },
     "5e369bac38a94eb292e66d7eb553fd18": {
      "model_module": "@jupyter-widgets/controls",
      "model_module_version": "1.5.0",
      "model_name": "VBoxModel",
      "state": {
       "_dom_classes": [
        "widget-interact"
       ],
       "children": [
        "IPY_MODEL_b044c45185aa41289a6201ce32bd4822",
        "IPY_MODEL_564b4ba4aaee47f4b0329f9397981c68"
       ],
       "layout": "IPY_MODEL_da4f190c5a0c4b3c8136befefa82cc25"
      }
     },
     "5e5943db86ea422685561c09ed4a4e50": {
      "model_module": "@jupyter-widgets/base",
      "model_module_version": "1.2.0",
      "model_name": "LayoutModel",
      "state": {}
     },
     "61a7bede487e4898afb02068b54fabe0": {
      "model_module": "@jupyter-widgets/base",
      "model_module_version": "1.2.0",
      "model_name": "LayoutModel",
      "state": {}
     },
     "61b45a3e3c41437c90f470d2d3e77da1": {
      "model_module": "@jupyter-widgets/controls",
      "model_module_version": "1.5.0",
      "model_name": "SliderStyleModel",
      "state": {
       "description_width": ""
      }
     },
     "624f4d181fb34c4287cebc359ba5e3ed": {
      "model_module": "@jupyter-widgets/base",
      "model_module_version": "1.2.0",
      "model_name": "LayoutModel",
      "state": {}
     },
     "630ec6cdd98a4ec492ecb09d43653e25": {
      "model_module": "@jupyter-widgets/controls",
      "model_module_version": "1.5.0",
      "model_name": "VBoxModel",
      "state": {
       "_dom_classes": [
        "widget-interact"
       ],
       "children": [
        "IPY_MODEL_756dd32296d04682a6441cefea12053e",
        "IPY_MODEL_214cc2e5316d4487a84892b1b9db4f44"
       ],
       "layout": "IPY_MODEL_82ffdf1dc2b54d828ee4248be2614a43"
      }
     },
     "638ffcf09a2f44978b2490604e407a9b": {
      "model_module": "@jupyter-widgets/base",
      "model_module_version": "1.2.0",
      "model_name": "LayoutModel",
      "state": {}
     },
     "63eed41ea0bb42e4914403283c497673": {
      "model_module": "jupyter-matplotlib",
      "model_module_version": "^0.7.4",
      "model_name": "ToolbarModel",
      "state": {
       "layout": "IPY_MODEL_8da6bb11a4064ed8a51f19e4b8081086",
       "toolitems": [
        [
         "Home",
         "Reset original view",
         "home",
         "home"
        ],
        [
         "Back",
         "Back to previous view",
         "arrow-left",
         "back"
        ],
        [
         "Forward",
         "Forward to next view",
         "arrow-right",
         "forward"
        ],
        [
         "Pan",
         "Left button pans, Right button zooms\nx/y fixes axis, CTRL fixes aspect",
         "arrows",
         "pan"
        ],
        [
         "Zoom",
         "Zoom to rectangle\nx/y fixes axis, CTRL fixes aspect",
         "square-o",
         "zoom"
        ],
        [
         "Download",
         "Download plot",
         "floppy-o",
         "save_figure"
        ]
       ]
      }
     },
     "6502bf0509054042bde09c779530786b": {
      "model_module": "@jupyter-widgets/controls",
      "model_module_version": "1.5.0",
      "model_name": "FloatSliderModel",
      "state": {
       "description": "x:",
       "layout": "IPY_MODEL_069c855391b6404fad73eb96687c17d2",
       "max": 5,
       "min": -5,
       "step": 0.01,
       "style": "IPY_MODEL_95477c64206d4b3a918efd038022acc3",
       "value": -4.89
      }
     },
     "66535068d86b467a832cb5a595ea48c6": {
      "model_module": "@jupyter-widgets/base",
      "model_module_version": "1.2.0",
      "model_name": "LayoutModel",
      "state": {}
     },
     "68150ebed34f4a16bb766c3116d75070": {
      "model_module": "@jupyter-widgets/base",
      "model_module_version": "1.2.0",
      "model_name": "LayoutModel",
      "state": {}
     },
     "69e7fa71fce14e3f8bb9b08f2e52d876": {
      "model_module": "@jupyter-widgets/controls",
      "model_module_version": "1.5.0",
      "model_name": "FloatSliderModel",
      "state": {
       "description": "x:",
       "layout": "IPY_MODEL_e07bdd688517441695d9600656bc4e2f",
       "max": 5,
       "min": -5,
       "step": 0.01,
       "style": "IPY_MODEL_9cb1335ea9a1466a81707c8345e8e660",
       "value": -5
      }
     },
     "6b3c479e81e746abbb9cea42ce67b7bc": {
      "model_module": "@jupyter-widgets/output",
      "model_module_version": "1.0.0",
      "model_name": "OutputModel",
      "state": {
       "layout": "IPY_MODEL_be207d358adb4f1abdf229414c60e38c"
      }
     },
     "6d492afc60404c6bbde1faf921b867a0": {
      "model_module": "@jupyter-widgets/base",
      "model_module_version": "1.2.0",
      "model_name": "LayoutModel",
      "state": {}
     },
     "6e07fe3d2455405ba826b2971cfcc2f7": {
      "model_module": "@jupyter-widgets/controls",
      "model_module_version": "1.5.0",
      "model_name": "FloatSliderModel",
      "state": {
       "description": "x:",
       "layout": "IPY_MODEL_5e5943db86ea422685561c09ed4a4e50",
       "max": 5,
       "min": -5,
       "step": 0.01,
       "style": "IPY_MODEL_ed14f64c4dcd4e2ca8e0794acdcacb5e",
       "value": -5
      }
     },
     "706677fd70d64dadb386befa0d2f9223": {
      "model_module": "jupyter-matplotlib",
      "model_module_version": "^0.7.4",
      "model_name": "ToolbarModel",
      "state": {
       "layout": "IPY_MODEL_4768771dc82d4989a2681ea5e3017d29",
       "toolitems": [
        [
         "Home",
         "Reset original view",
         "home",
         "home"
        ],
        [
         "Back",
         "Back to previous view",
         "arrow-left",
         "back"
        ],
        [
         "Forward",
         "Forward to next view",
         "arrow-right",
         "forward"
        ],
        [
         "Pan",
         "Left button pans, Right button zooms\nx/y fixes axis, CTRL fixes aspect",
         "arrows",
         "pan"
        ],
        [
         "Zoom",
         "Zoom to rectangle\nx/y fixes axis, CTRL fixes aspect",
         "square-o",
         "zoom"
        ],
        [
         "Download",
         "Download plot",
         "floppy-o",
         "save_figure"
        ]
       ]
      }
     },
     "70b197bff3d94e3599a402addec26afa": {
      "model_module": "@jupyter-widgets/base",
      "model_module_version": "1.2.0",
      "model_name": "LayoutModel",
      "state": {}
     },
     "721991d1a3d54b0fb5d6a75dc81b498f": {
      "model_module": "@jupyter-widgets/base",
      "model_module_version": "1.2.0",
      "model_name": "LayoutModel",
      "state": {}
     },
     "7274b99b88d5454791c9054016317e28": {
      "model_module": "@jupyter-widgets/base",
      "model_module_version": "1.2.0",
      "model_name": "LayoutModel",
      "state": {}
     },
     "72baaf8d85ac4599815f2b7c1f19bbf9": {
      "model_module": "jupyter-matplotlib",
      "model_module_version": "^0.7.4",
      "model_name": "ToolbarModel",
      "state": {
       "layout": "IPY_MODEL_38c90ffc223248f1bde701c05dea7ebf",
       "toolitems": [
        [
         "Home",
         "Reset original view",
         "home",
         "home"
        ],
        [
         "Back",
         "Back to previous view",
         "arrow-left",
         "back"
        ],
        [
         "Forward",
         "Forward to next view",
         "arrow-right",
         "forward"
        ],
        [
         "Pan",
         "Left button pans, Right button zooms\nx/y fixes axis, CTRL fixes aspect",
         "arrows",
         "pan"
        ],
        [
         "Zoom",
         "Zoom to rectangle\nx/y fixes axis, CTRL fixes aspect",
         "square-o",
         "zoom"
        ],
        [
         "Download",
         "Download plot",
         "floppy-o",
         "save_figure"
        ]
       ]
      }
     },
     "73731cda8dae44ec8981d807542fe13c": {
      "model_module": "@jupyter-widgets/base",
      "model_module_version": "1.2.0",
      "model_name": "LayoutModel",
      "state": {}
     },
     "756dd32296d04682a6441cefea12053e": {
      "model_module": "@jupyter-widgets/controls",
      "model_module_version": "1.5.0",
      "model_name": "FloatSliderModel",
      "state": {
       "description": "x:",
       "layout": "IPY_MODEL_e80f4135011848ca951896514ae25451",
       "max": 5,
       "min": -5,
       "step": 0.01,
       "style": "IPY_MODEL_86afe04d6cf348a586e54a288c5a0050",
       "value": 3.66
      }
     },
     "7581527ffbbc4b4190f13a5766295b8d": {
      "model_module": "@jupyter-widgets/controls",
      "model_module_version": "1.5.0",
      "model_name": "SliderStyleModel",
      "state": {
       "description_width": ""
      }
     },
     "7641cd5a0984494daef65ffcdb8a608b": {
      "model_module": "jupyter-matplotlib",
      "model_module_version": "^0.7.4",
      "model_name": "ToolbarModel",
      "state": {
       "layout": "IPY_MODEL_06ebd465e8404485b416e21fc32f1dea",
       "toolitems": [
        [
         "Home",
         "Reset original view",
         "home",
         "home"
        ],
        [
         "Back",
         "Back to previous view",
         "arrow-left",
         "back"
        ],
        [
         "Forward",
         "Forward to next view",
         "arrow-right",
         "forward"
        ],
        [
         "Pan",
         "Left button pans, Right button zooms\nx/y fixes axis, CTRL fixes aspect",
         "arrows",
         "pan"
        ],
        [
         "Zoom",
         "Zoom to rectangle\nx/y fixes axis, CTRL fixes aspect",
         "square-o",
         "zoom"
        ],
        [
         "Download",
         "Download plot",
         "floppy-o",
         "save_figure"
        ]
       ]
      }
     },
     "76b58f7aadb34321b3f3f9f372b7ef62": {
      "model_module": "@jupyter-widgets/base",
      "model_module_version": "1.2.0",
      "model_name": "LayoutModel",
      "state": {}
     },
     "7851c08cc7d7409bb89d6db3334df0b0": {
      "model_module": "@jupyter-widgets/controls",
      "model_module_version": "1.5.0",
      "model_name": "VBoxModel",
      "state": {
       "_dom_classes": [
        "widget-interact"
       ],
       "children": [
        "IPY_MODEL_93506725449e4c0f928e814af2b3680d",
        "IPY_MODEL_ed4b2822af944602baa0dcfab3452a5e"
       ],
       "layout": "IPY_MODEL_1da0097bd35e46e8a56328ce78898ebc"
      }
     },
     "78c7b46949a945fa8451e8e774a762d5": {
      "model_module": "jupyter-matplotlib",
      "model_module_version": "^0.7.4",
      "model_name": "ToolbarModel",
      "state": {
       "layout": "IPY_MODEL_b0f1619449244b9aa96f98e0be67da67",
       "toolitems": [
        [
         "Home",
         "Reset original view",
         "home",
         "home"
        ],
        [
         "Back",
         "Back to previous view",
         "arrow-left",
         "back"
        ],
        [
         "Forward",
         "Forward to next view",
         "arrow-right",
         "forward"
        ],
        [
         "Pan",
         "Left button pans, Right button zooms\nx/y fixes axis, CTRL fixes aspect",
         "arrows",
         "pan"
        ],
        [
         "Zoom",
         "Zoom to rectangle\nx/y fixes axis, CTRL fixes aspect",
         "square-o",
         "zoom"
        ],
        [
         "Download",
         "Download plot",
         "floppy-o",
         "save_figure"
        ]
       ]
      }
     },
     "78cc4a3dad7142d3985f01b6d7874c9b": {
      "model_module": "@jupyter-widgets/base",
      "model_module_version": "1.2.0",
      "model_name": "LayoutModel",
      "state": {}
     },
     "78d54dfd22a84a04b26b7200d55a0aac": {
      "model_module": "jupyter-matplotlib",
      "model_module_version": "^0.7.4",
      "model_name": "ToolbarModel",
      "state": {
       "layout": "IPY_MODEL_d62d491a6e7f4d7cb8d99b2a46d40127",
       "toolitems": [
        [
         "Home",
         "Reset original view",
         "home",
         "home"
        ],
        [
         "Back",
         "Back to previous view",
         "arrow-left",
         "back"
        ],
        [
         "Forward",
         "Forward to next view",
         "arrow-right",
         "forward"
        ],
        [
         "Pan",
         "Left button pans, Right button zooms\nx/y fixes axis, CTRL fixes aspect",
         "arrows",
         "pan"
        ],
        [
         "Zoom",
         "Zoom to rectangle\nx/y fixes axis, CTRL fixes aspect",
         "square-o",
         "zoom"
        ],
        [
         "Download",
         "Download plot",
         "floppy-o",
         "save_figure"
        ]
       ]
      }
     },
     "793503a78cf54dcf9c4eab376e3ba2cf": {
      "model_module": "@jupyter-widgets/base",
      "model_module_version": "1.2.0",
      "model_name": "LayoutModel",
      "state": {}
     },
     "7ab32d87067c4eddafac815be485bc28": {
      "model_module": "@jupyter-widgets/base",
      "model_module_version": "1.2.0",
      "model_name": "LayoutModel",
      "state": {}
     },
     "7b289bbe3a52404e8d13c80d6bb0bc08": {
      "model_module": "@jupyter-widgets/base",
      "model_module_version": "1.2.0",
      "model_name": "LayoutModel",
      "state": {}
     },
     "7f30cb59db4c4e27b5e2eda25fc1049f": {
      "model_module": "@jupyter-widgets/base",
      "model_module_version": "1.2.0",
      "model_name": "LayoutModel",
      "state": {}
     },
     "806ee2082e9d4a50a72e48d1a8537249": {
      "model_module": "@jupyter-widgets/base",
      "model_module_version": "1.2.0",
      "model_name": "LayoutModel",
      "state": {}
     },
     "80fc536bf44c41849ad9928f8de6af14": {
      "model_module": "@jupyter-widgets/base",
      "model_module_version": "1.2.0",
      "model_name": "LayoutModel",
      "state": {}
     },
     "815d572ff09843448de25c8212cda0f2": {
      "model_module": "@jupyter-widgets/base",
      "model_module_version": "1.2.0",
      "model_name": "LayoutModel",
      "state": {}
     },
     "8179036326774092906a3d55f6c83a7b": {
      "model_module": "@jupyter-widgets/controls",
      "model_module_version": "1.5.0",
      "model_name": "SliderStyleModel",
      "state": {
       "description_width": ""
      }
     },
     "829473f61422467289ba49e4b1218616": {
      "model_module": "@jupyter-widgets/controls",
      "model_module_version": "1.5.0",
      "model_name": "FloatSliderModel",
      "state": {
       "description": "x:",
       "layout": "IPY_MODEL_f123c5ba7f7d4965ac2459762165ce39",
       "max": 5,
       "min": -5,
       "step": 0.01,
       "style": "IPY_MODEL_44563983c444435a98bc6c00e8231a95",
       "value": -1.82
      }
     },
     "82ffdf1dc2b54d828ee4248be2614a43": {
      "model_module": "@jupyter-widgets/base",
      "model_module_version": "1.2.0",
      "model_name": "LayoutModel",
      "state": {}
     },
     "83f341e1c0b34ebbb63b778da55c35b9": {
      "model_module": "@jupyter-widgets/base",
      "model_module_version": "1.2.0",
      "model_name": "LayoutModel",
      "state": {}
     },
     "845a97f9eae448d7b99d25b3f2d25d14": {
      "model_module": "@jupyter-widgets/base",
      "model_module_version": "1.2.0",
      "model_name": "LayoutModel",
      "state": {}
     },
     "86afe04d6cf348a586e54a288c5a0050": {
      "model_module": "@jupyter-widgets/controls",
      "model_module_version": "1.5.0",
      "model_name": "SliderStyleModel",
      "state": {
       "description_width": ""
      }
     },
     "88c53129193f4ac19c17a51483d6f913": {
      "model_module": "@jupyter-widgets/controls",
      "model_module_version": "1.5.0",
      "model_name": "SliderStyleModel",
      "state": {
       "description_width": ""
      }
     },
     "897671894227489097ea88402e860fe7": {
      "model_module": "@jupyter-widgets/output",
      "model_module_version": "1.0.0",
      "model_name": "OutputModel",
      "state": {
       "layout": "IPY_MODEL_845a97f9eae448d7b99d25b3f2d25d14"
      }
     },
     "8a3478cfcd2e4a998af058cc35da761d": {
      "model_module": "@jupyter-widgets/base",
      "model_module_version": "1.2.0",
      "model_name": "LayoutModel",
      "state": {}
     },
     "8b5424dc57ca4e598c36ea768683b5a3": {
      "model_module": "@jupyter-widgets/base",
      "model_module_version": "1.2.0",
      "model_name": "LayoutModel",
      "state": {}
     },
     "8d396d89590f4149ba0b598e0910657f": {
      "model_module": "@jupyter-widgets/base",
      "model_module_version": "1.2.0",
      "model_name": "LayoutModel",
      "state": {}
     },
     "8da6bb11a4064ed8a51f19e4b8081086": {
      "model_module": "@jupyter-widgets/base",
      "model_module_version": "1.2.0",
      "model_name": "LayoutModel",
      "state": {}
     },
     "8e7602a7008e458d9c2c06b696d83347": {
      "model_module": "@jupyter-widgets/base",
      "model_module_version": "1.2.0",
      "model_name": "LayoutModel",
      "state": {}
     },
     "8fad8c0ff7b54cf49d5c7c6225d304ec": {
      "model_module": "@jupyter-widgets/base",
      "model_module_version": "1.2.0",
      "model_name": "LayoutModel",
      "state": {}
     },
     "900c801a12e24561952f47758be7e847": {
      "model_module": "@jupyter-widgets/base",
      "model_module_version": "1.2.0",
      "model_name": "LayoutModel",
      "state": {}
     },
     "916bc8141dd34af8af507bd2ad4ef40d": {
      "model_module": "@jupyter-widgets/base",
      "model_module_version": "1.2.0",
      "model_name": "LayoutModel",
      "state": {}
     },
     "91b5e8f707344462957ea1b586e2ff0d": {
      "model_module": "@jupyter-widgets/base",
      "model_module_version": "1.2.0",
      "model_name": "LayoutModel",
      "state": {}
     },
     "93506725449e4c0f928e814af2b3680d": {
      "model_module": "@jupyter-widgets/controls",
      "model_module_version": "1.5.0",
      "model_name": "FloatSliderModel",
      "state": {
       "description": "x:",
       "layout": "IPY_MODEL_8b5424dc57ca4e598c36ea768683b5a3",
       "max": 5,
       "min": -5,
       "step": 0.01,
       "style": "IPY_MODEL_5160e1bbc66b47c8949cd0f02253475d",
       "value": 3.66
      }
     },
     "9486f59060644e32a4f6533159c6b1ba": {
      "model_module": "@jupyter-widgets/base",
      "model_module_version": "1.2.0",
      "model_name": "LayoutModel",
      "state": {}
     },
     "95477c64206d4b3a918efd038022acc3": {
      "model_module": "@jupyter-widgets/controls",
      "model_module_version": "1.5.0",
      "model_name": "SliderStyleModel",
      "state": {
       "description_width": ""
      }
     },
     "95c24a60b4e041719fd1dcf540db2665": {
      "model_module": "@jupyter-widgets/controls",
      "model_module_version": "1.5.0",
      "model_name": "VBoxModel",
      "state": {
       "_dom_classes": [
        "widget-interact"
       ],
       "children": [
        "IPY_MODEL_e5b6bafe408348e1b6aa47db8feb1437",
        "IPY_MODEL_478f767dcb5c43beaa64b57bb1ce51fd"
       ],
       "layout": "IPY_MODEL_4a957b6655db4b5493cb7538bec3cb3b"
      }
     },
     "95db213d0fb940ecae8958b97f6145dd": {
      "model_module": "@jupyter-widgets/base",
      "model_module_version": "1.2.0",
      "model_name": "LayoutModel",
      "state": {}
     },
     "96110b25d60e427f90d26887c7921afb": {
      "model_module": "jupyter-matplotlib",
      "model_module_version": "^0.7.4",
      "model_name": "ToolbarModel",
      "state": {
       "layout": "IPY_MODEL_559bbfe14afa4c009976e142a3f1f9b3",
       "toolitems": [
        [
         "Home",
         "Reset original view",
         "home",
         "home"
        ],
        [
         "Back",
         "Back to previous view",
         "arrow-left",
         "back"
        ],
        [
         "Forward",
         "Forward to next view",
         "arrow-right",
         "forward"
        ],
        [
         "Pan",
         "Left button pans, Right button zooms\nx/y fixes axis, CTRL fixes aspect",
         "arrows",
         "pan"
        ],
        [
         "Zoom",
         "Zoom to rectangle\nx/y fixes axis, CTRL fixes aspect",
         "square-o",
         "zoom"
        ],
        [
         "Download",
         "Download plot",
         "floppy-o",
         "save_figure"
        ]
       ]
      }
     },
     "965820f8a24e4b5b9744124eb41d7047": {
      "model_module": "@jupyter-widgets/base",
      "model_module_version": "1.2.0",
      "model_name": "LayoutModel",
      "state": {}
     },
     "98ba42e1cc474831aaa9e6034a1f7477": {
      "model_module": "@jupyter-widgets/controls",
      "model_module_version": "1.5.0",
      "model_name": "VBoxModel",
      "state": {
       "_dom_classes": [
        "widget-interact"
       ],
       "children": [
        "IPY_MODEL_349778c385d24f69869e31ed1018d37a",
        "IPY_MODEL_ded003a081534306b10a8b8983f65ee2"
       ],
       "layout": "IPY_MODEL_2dc4e105b4c642a7ad2f9b90c06586f3"
      }
     },
     "9ae5ec42fe714504817b0dbf0db0a8ca": {
      "model_module": "@jupyter-widgets/output",
      "model_module_version": "1.0.0",
      "model_name": "OutputModel",
      "state": {
       "layout": "IPY_MODEL_9486f59060644e32a4f6533159c6b1ba"
      }
     },
     "9c03b588071148dfb91ea8c3f4d24d6f": {
      "model_module": "@jupyter-widgets/base",
      "model_module_version": "1.2.0",
      "model_name": "LayoutModel",
      "state": {}
     },
     "9c2e6e2661a3424498aab08a53e2df39": {
      "model_module": "@jupyter-widgets/controls",
      "model_module_version": "1.5.0",
      "model_name": "SliderStyleModel",
      "state": {
       "description_width": ""
      }
     },
     "9c952df50e3b4dde879559bbcd33e236": {
      "model_module": "jupyter-matplotlib",
      "model_module_version": "^0.7.4",
      "model_name": "ToolbarModel",
      "state": {
       "layout": "IPY_MODEL_8a3478cfcd2e4a998af058cc35da761d",
       "toolitems": [
        [
         "Home",
         "Reset original view",
         "home",
         "home"
        ],
        [
         "Back",
         "Back to previous view",
         "arrow-left",
         "back"
        ],
        [
         "Forward",
         "Forward to next view",
         "arrow-right",
         "forward"
        ],
        [
         "Pan",
         "Left button pans, Right button zooms\nx/y fixes axis, CTRL fixes aspect",
         "arrows",
         "pan"
        ],
        [
         "Zoom",
         "Zoom to rectangle\nx/y fixes axis, CTRL fixes aspect",
         "square-o",
         "zoom"
        ],
        [
         "Download",
         "Download plot",
         "floppy-o",
         "save_figure"
        ]
       ]
      }
     },
     "9cb1335ea9a1466a81707c8345e8e660": {
      "model_module": "@jupyter-widgets/controls",
      "model_module_version": "1.5.0",
      "model_name": "SliderStyleModel",
      "state": {
       "description_width": ""
      }
     },
     "9d6f127b059b499aa8c49acf8e5d134f": {
      "model_module": "@jupyter-widgets/base",
      "model_module_version": "1.2.0",
      "model_name": "LayoutModel",
      "state": {}
     },
     "9e3372298d3b49ebaea5e64f3aa29159": {
      "model_module": "@jupyter-widgets/base",
      "model_module_version": "1.2.0",
      "model_name": "LayoutModel",
      "state": {}
     },
     "9e6884f1ebe941568609cb6e09427541": {
      "model_module": "@jupyter-widgets/controls",
      "model_module_version": "1.5.0",
      "model_name": "FloatSliderModel",
      "state": {
       "description": "x:",
       "layout": "IPY_MODEL_721991d1a3d54b0fb5d6a75dc81b498f",
       "max": 6.283185307179586,
       "step": 0.006283185307179587,
       "style": "IPY_MODEL_fae7bbaee86543b0b44074d2954f5d0b",
       "value": 1.58965
      }
     },
     "9fc08f04998840fbb9925741f9e7add3": {
      "model_module": "@jupyter-widgets/base",
      "model_module_version": "1.2.0",
      "model_name": "LayoutModel",
      "state": {}
     },
     "a2f29f9459c44c2bb01baca297ed0ee3": {
      "model_module": "@jupyter-widgets/base",
      "model_module_version": "1.2.0",
      "model_name": "LayoutModel",
      "state": {}
     },
     "a7fc9268c5a843fbaae77f990465001f": {
      "model_module": "@jupyter-widgets/base",
      "model_module_version": "1.2.0",
      "model_name": "LayoutModel",
      "state": {}
     },
     "a9736427024a49fc87855b2744666074": {
      "model_module": "@jupyter-widgets/base",
      "model_module_version": "1.2.0",
      "model_name": "LayoutModel",
      "state": {}
     },
     "aa8d0ceb500048739b1791a48a88f537": {
      "model_module": "@jupyter-widgets/base",
      "model_module_version": "1.2.0",
      "model_name": "LayoutModel",
      "state": {}
     },
     "ace8a4188d5d40028835b2b04de1d270": {
      "model_module": "@jupyter-widgets/base",
      "model_module_version": "1.2.0",
      "model_name": "LayoutModel",
      "state": {}
     },
     "ad14509741374649a422a8df12ddf917": {
      "model_module": "@jupyter-widgets/controls",
      "model_module_version": "1.5.0",
      "model_name": "VBoxModel",
      "state": {
       "_dom_classes": [
        "widget-interact"
       ],
       "children": [
        "IPY_MODEL_e2cc2f943f964942b85e4a2538541e5c",
        "IPY_MODEL_9ae5ec42fe714504817b0dbf0db0a8ca"
       ],
       "layout": "IPY_MODEL_394f5d1a1de940babc3e69fbbe9d91c3"
      }
     },
     "ad232fca329f4b40806f1c57bec8cab9": {
      "model_module": "@jupyter-widgets/output",
      "model_module_version": "1.0.0",
      "model_name": "OutputModel",
      "state": {
       "layout": "IPY_MODEL_8fad8c0ff7b54cf49d5c7c6225d304ec"
      }
     },
     "b044c45185aa41289a6201ce32bd4822": {
      "model_module": "@jupyter-widgets/controls",
      "model_module_version": "1.5.0",
      "model_name": "FloatSliderModel",
      "state": {
       "description": "x:",
       "layout": "IPY_MODEL_900c801a12e24561952f47758be7e847",
       "max": 6.283185307179586,
       "step": 0.006283185307179587,
       "style": "IPY_MODEL_7581527ffbbc4b4190f13a5766295b8d",
       "value": 0.1
      }
     },
     "b0f1619449244b9aa96f98e0be67da67": {
      "model_module": "@jupyter-widgets/base",
      "model_module_version": "1.2.0",
      "model_name": "LayoutModel",
      "state": {}
     },
     "b261d22326454556abb8ba9c44a92de3": {
      "model_module": "@jupyter-widgets/controls",
      "model_module_version": "1.5.0",
      "model_name": "FloatSliderModel",
      "state": {
       "description": "x:",
       "layout": "IPY_MODEL_05db15619e3a46a9b1ee8d42d5e8b1a1",
       "max": 5,
       "min": -5,
       "step": 0.01,
       "style": "IPY_MODEL_61b45a3e3c41437c90f470d2d3e77da1",
       "value": 3.1
      }
     },
     "b28f93d086694357bb37efdd81689fb4": {
      "model_module": "@jupyter-widgets/controls",
      "model_module_version": "1.5.0",
      "model_name": "FloatSliderModel",
      "state": {
       "description": "x:",
       "layout": "IPY_MODEL_fa1ff6b267394252bbe8418616deebb4",
       "max": 5,
       "min": -5,
       "step": 0.01,
       "style": "IPY_MODEL_fc399c8ff09942e2bb18989633664f27",
       "value": 3.58
      }
     },
     "b322547ef387426f9d0f8d4354755b1a": {
      "model_module": "@jupyter-widgets/controls",
      "model_module_version": "1.5.0",
      "model_name": "SliderStyleModel",
      "state": {
       "description_width": ""
      }
     },
     "b4eb89dc986d42ac999958f2d185cdfb": {
      "model_module": "@jupyter-widgets/controls",
      "model_module_version": "1.5.0",
      "model_name": "FloatSliderModel",
      "state": {
       "description": "x:",
       "layout": "IPY_MODEL_9fc08f04998840fbb9925741f9e7add3",
       "max": 5,
       "min": -5,
       "step": 0.01,
       "style": "IPY_MODEL_346392f196e54e2fa2dfd8f1b8f7cae6",
       "value": 3.58
      }
     },
     "b60b8c89e534483fb96a7cd1ba2f0810": {
      "model_module": "@jupyter-widgets/base",
      "model_module_version": "1.2.0",
      "model_name": "LayoutModel",
      "state": {}
     },
     "b758812a87a947aead1f8b328975cdb7": {
      "model_module": "@jupyter-widgets/base",
      "model_module_version": "1.2.0",
      "model_name": "LayoutModel",
      "state": {}
     },
     "b7bcf1bc862d41d9a15f057755a8c81a": {
      "model_module": "@jupyter-widgets/controls",
      "model_module_version": "1.5.0",
      "model_name": "FloatSliderModel",
      "state": {
       "description": "x:",
       "layout": "IPY_MODEL_8e7602a7008e458d9c2c06b696d83347",
       "max": 5,
       "min": -5,
       "step": 0.01,
       "style": "IPY_MODEL_b322547ef387426f9d0f8d4354755b1a",
       "value": -0.21
      }
     },
     "bcadb1992f91427ea742a7e5084e04eb": {
      "model_module": "@jupyter-widgets/base",
      "model_module_version": "1.2.0",
      "model_name": "LayoutModel",
      "state": {}
     },
     "be207d358adb4f1abdf229414c60e38c": {
      "model_module": "@jupyter-widgets/base",
      "model_module_version": "1.2.0",
      "model_name": "LayoutModel",
      "state": {}
     },
     "c1bb5c00478b49f9ac72d098bd74f668": {
      "model_module": "@jupyter-widgets/controls",
      "model_module_version": "1.5.0",
      "model_name": "VBoxModel",
      "state": {
       "_dom_classes": [
        "widget-interact"
       ],
       "children": [
        "IPY_MODEL_b4eb89dc986d42ac999958f2d185cdfb",
        "IPY_MODEL_fc2d8174653c4643aba87190132f99d8"
       ],
       "layout": "IPY_MODEL_d2cc65670ac24a6aa0a630d7a6b48598"
      }
     },
     "c29cca45353f4442ba88ac2bc79b103b": {
      "model_module": "jupyter-matplotlib",
      "model_module_version": "^0.7.4",
      "model_name": "ToolbarModel",
      "state": {
       "layout": "IPY_MODEL_4e4d28146d2044d2a7b2b2715987badd",
       "toolitems": [
        [
         "Home",
         "Reset original view",
         "home",
         "home"
        ],
        [
         "Back",
         "Back to previous view",
         "arrow-left",
         "back"
        ],
        [
         "Forward",
         "Forward to next view",
         "arrow-right",
         "forward"
        ],
        [
         "Pan",
         "Left button pans, Right button zooms\nx/y fixes axis, CTRL fixes aspect",
         "arrows",
         "pan"
        ],
        [
         "Zoom",
         "Zoom to rectangle\nx/y fixes axis, CTRL fixes aspect",
         "square-o",
         "zoom"
        ],
        [
         "Download",
         "Download plot",
         "floppy-o",
         "save_figure"
        ]
       ]
      }
     },
     "c36bf085353a4fec8be6d61d1b689e1c": {
      "model_module": "@jupyter-widgets/base",
      "model_module_version": "1.2.0",
      "model_name": "LayoutModel",
      "state": {}
     },
     "c4283cff6c8945cea67aafa64a5cf2ab": {
      "model_module": "jupyter-matplotlib",
      "model_module_version": "^0.7.4",
      "model_name": "ToolbarModel",
      "state": {
       "layout": "IPY_MODEL_c7dd293ac6fb4a97892a07dc5ac1bc16",
       "toolitems": [
        [
         "Home",
         "Reset original view",
         "home",
         "home"
        ],
        [
         "Back",
         "Back to previous view",
         "arrow-left",
         "back"
        ],
        [
         "Forward",
         "Forward to next view",
         "arrow-right",
         "forward"
        ],
        [
         "Pan",
         "Left button pans, Right button zooms\nx/y fixes axis, CTRL fixes aspect",
         "arrows",
         "pan"
        ],
        [
         "Zoom",
         "Zoom to rectangle\nx/y fixes axis, CTRL fixes aspect",
         "square-o",
         "zoom"
        ],
        [
         "Download",
         "Download plot",
         "floppy-o",
         "save_figure"
        ]
       ]
      }
     },
     "c5b1e1601a2d40c59d8f2afbb477d105": {
      "model_module": "@jupyter-widgets/output",
      "model_module_version": "1.0.0",
      "model_name": "OutputModel",
      "state": {
       "layout": "IPY_MODEL_f9002246e9a747598367f9421d3d1ac1"
      }
     },
     "c61267dac4714a378b0ac085e475fc5d": {
      "model_module": "@jupyter-widgets/output",
      "model_module_version": "1.0.0",
      "model_name": "OutputModel",
      "state": {
       "layout": "IPY_MODEL_03a01974125e46d792b047c6087c41d8"
      }
     },
     "c63b213ebd6944e19931d1632e672f8c": {
      "model_module": "jupyter-matplotlib",
      "model_module_version": "^0.7.4",
      "model_name": "ToolbarModel",
      "state": {
       "layout": "IPY_MODEL_78cc4a3dad7142d3985f01b6d7874c9b",
       "toolitems": [
        [
         "Home",
         "Reset original view",
         "home",
         "home"
        ],
        [
         "Back",
         "Back to previous view",
         "arrow-left",
         "back"
        ],
        [
         "Forward",
         "Forward to next view",
         "arrow-right",
         "forward"
        ],
        [
         "Pan",
         "Left button pans, Right button zooms\nx/y fixes axis, CTRL fixes aspect",
         "arrows",
         "pan"
        ],
        [
         "Zoom",
         "Zoom to rectangle\nx/y fixes axis, CTRL fixes aspect",
         "square-o",
         "zoom"
        ],
        [
         "Download",
         "Download plot",
         "floppy-o",
         "save_figure"
        ]
       ]
      }
     },
     "c7079f944b4e41d0a6e923d52d1398c0": {
      "model_module": "@jupyter-widgets/base",
      "model_module_version": "1.2.0",
      "model_name": "LayoutModel",
      "state": {}
     },
     "c7dd293ac6fb4a97892a07dc5ac1bc16": {
      "model_module": "@jupyter-widgets/base",
      "model_module_version": "1.2.0",
      "model_name": "LayoutModel",
      "state": {}
     },
     "c885a0ac8a3240e7bae3ce40a69ea840": {
      "model_module": "@jupyter-widgets/output",
      "model_module_version": "1.0.0",
      "model_name": "OutputModel",
      "state": {
       "layout": "IPY_MODEL_7ab32d87067c4eddafac815be485bc28"
      }
     },
     "c9bc84a1380f4ce4a5894a09edac220c": {
      "model_module": "@jupyter-widgets/base",
      "model_module_version": "1.2.0",
      "model_name": "LayoutModel",
      "state": {}
     },
     "cb3eea8d402c43b69b552fcb20c6fb50": {
      "model_module": "@jupyter-widgets/controls",
      "model_module_version": "1.5.0",
      "model_name": "VBoxModel",
      "state": {
       "_dom_classes": [
        "widget-interact"
       ],
       "children": [
        "IPY_MODEL_0e7b1a0a0ac949b78f3645e068359b8f",
        "IPY_MODEL_1ba6106511244f29807536c7e94ca5ee"
       ],
       "layout": "IPY_MODEL_18a3ba3920e0483f9f8e8dfbaf8864d4"
      }
     },
     "cc6228d28c374ba093ba9edd04040a27": {
      "model_module": "@jupyter-widgets/controls",
      "model_module_version": "1.5.0",
      "model_name": "FloatSliderModel",
      "state": {
       "description": "x:",
       "layout": "IPY_MODEL_d7cc255bd8b944f186def44534f59702",
       "max": 5,
       "min": -5,
       "step": 0.01,
       "style": "IPY_MODEL_f3403e1b26ff4a8f9c1755023c64e0b6",
       "value": -5
      }
     },
     "cc764975271b4bdaa49338ef9bd8906d": {
      "model_module": "@jupyter-widgets/base",
      "model_module_version": "1.2.0",
      "model_name": "LayoutModel",
      "state": {}
     },
     "ce414ab2389c442fba574058b4c4a6f9": {
      "model_module": "@jupyter-widgets/base",
      "model_module_version": "1.2.0",
      "model_name": "LayoutModel",
      "state": {}
     },
     "ceed9cefb4c34265ac049fc7022f6db4": {
      "model_module": "@jupyter-widgets/base",
      "model_module_version": "1.2.0",
      "model_name": "LayoutModel",
      "state": {}
     },
     "d04a56404ab042abb241da1d21165db9": {
      "model_module": "@jupyter-widgets/controls",
      "model_module_version": "1.5.0",
      "model_name": "SliderStyleModel",
      "state": {
       "description_width": ""
      }
     },
     "d2cc65670ac24a6aa0a630d7a6b48598": {
      "model_module": "@jupyter-widgets/base",
      "model_module_version": "1.2.0",
      "model_name": "LayoutModel",
      "state": {}
     },
     "d2d6e06b9eb84ebd9b78eda543afecce": {
      "model_module": "@jupyter-widgets/controls",
      "model_module_version": "1.5.0",
      "model_name": "VBoxModel",
      "state": {
       "_dom_classes": [
        "widget-interact"
       ],
       "children": [
        "IPY_MODEL_5a8e5639643742379462489e0d0a9486",
        "IPY_MODEL_520442d35ff542d087caa6016572725d"
       ],
       "layout": "IPY_MODEL_0bf984889c784af39cec2edaa3d42888"
      }
     },
     "d30ce2250c2f4f28a1a404536f5c4397": {
      "model_module": "@jupyter-widgets/output",
      "model_module_version": "1.0.0",
      "model_name": "OutputModel",
      "state": {
       "layout": "IPY_MODEL_b758812a87a947aead1f8b328975cdb7"
      }
     },
     "d4e5e07e49b944f5a88242580694c7d7": {
      "model_module": "@jupyter-widgets/base",
      "model_module_version": "1.2.0",
      "model_name": "LayoutModel",
      "state": {}
     },
     "d62d491a6e7f4d7cb8d99b2a46d40127": {
      "model_module": "@jupyter-widgets/base",
      "model_module_version": "1.2.0",
      "model_name": "LayoutModel",
      "state": {}
     },
     "d70ed1ef0afc4787a01e047ac1c12948": {
      "model_module": "@jupyter-widgets/base",
      "model_module_version": "1.2.0",
      "model_name": "LayoutModel",
      "state": {}
     },
     "d7cc255bd8b944f186def44534f59702": {
      "model_module": "@jupyter-widgets/base",
      "model_module_version": "1.2.0",
      "model_name": "LayoutModel",
      "state": {}
     },
     "d7d87b6c4f114435b2fe475c2f3ae5e7": {
      "model_module": "@jupyter-widgets/output",
      "model_module_version": "1.0.0",
      "model_name": "OutputModel",
      "state": {
       "layout": "IPY_MODEL_4e1696c6285c44258e8531d86ef590f2"
      }
     },
     "d8ce3a8c400141c093de33bcaeac23ae": {
      "model_module": "jupyter-matplotlib",
      "model_module_version": "^0.7.4",
      "model_name": "ToolbarModel",
      "state": {
       "layout": "IPY_MODEL_7274b99b88d5454791c9054016317e28",
       "toolitems": [
        [
         "Home",
         "Reset original view",
         "home",
         "home"
        ],
        [
         "Back",
         "Back to previous view",
         "arrow-left",
         "back"
        ],
        [
         "Forward",
         "Forward to next view",
         "arrow-right",
         "forward"
        ],
        [
         "Pan",
         "Left button pans, Right button zooms\nx/y fixes axis, CTRL fixes aspect",
         "arrows",
         "pan"
        ],
        [
         "Zoom",
         "Zoom to rectangle\nx/y fixes axis, CTRL fixes aspect",
         "square-o",
         "zoom"
        ],
        [
         "Download",
         "Download plot",
         "floppy-o",
         "save_figure"
        ]
       ]
      }
     },
     "d8f4f04c9f534ae3945f99022d2ee2ef": {
      "model_module": "@jupyter-widgets/base",
      "model_module_version": "1.2.0",
      "model_name": "LayoutModel",
      "state": {}
     },
     "da4f190c5a0c4b3c8136befefa82cc25": {
      "model_module": "@jupyter-widgets/base",
      "model_module_version": "1.2.0",
      "model_name": "LayoutModel",
      "state": {}
     },
     "db84eabb607e4c2f943a95fb15114255": {
      "model_module": "@jupyter-widgets/controls",
      "model_module_version": "1.5.0",
      "model_name": "FloatSliderModel",
      "state": {
       "description": "x:",
       "layout": "IPY_MODEL_66535068d86b467a832cb5a595ea48c6",
       "max": 5,
       "min": -5,
       "step": 0.01,
       "style": "IPY_MODEL_5c281b6914d94fb9ac5fbc6d42df7f8d",
       "value": 1.98
      }
     },
     "ded003a081534306b10a8b8983f65ee2": {
      "model_module": "@jupyter-widgets/output",
      "model_module_version": "1.0.0",
      "model_name": "OutputModel",
      "state": {
       "layout": "IPY_MODEL_26521e56c6c54624af7142177154d453"
      }
     },
     "df71d23fd2f4438dbbc9a1a0d8db66e3": {
      "model_module": "@jupyter-widgets/controls",
      "model_module_version": "1.5.0",
      "model_name": "VBoxModel",
      "state": {
       "_dom_classes": [
        "widget-interact"
       ],
       "children": [
        "IPY_MODEL_fa59b395f18e447d92c9dc8ff1414f00",
        "IPY_MODEL_5c3f3c2cc1b2487587ffd16ed7d5269f"
       ],
       "layout": "IPY_MODEL_13d59e8cea0543e8a03ffa63ad39658e"
      }
     },
     "dfaa5c1de5ed47d294db30bfc850b823": {
      "model_module": "@jupyter-widgets/controls",
      "model_module_version": "1.5.0",
      "model_name": "VBoxModel",
      "state": {
       "_dom_classes": [
        "widget-interact"
       ],
       "children": [
        "IPY_MODEL_6502bf0509054042bde09c779530786b",
        "IPY_MODEL_ad232fca329f4b40806f1c57bec8cab9"
       ],
       "layout": "IPY_MODEL_80fc536bf44c41849ad9928f8de6af14"
      }
     },
     "e043566cc66d4017af20ab954264a672": {
      "model_module": "@jupyter-widgets/controls",
      "model_module_version": "1.5.0",
      "model_name": "VBoxModel",
      "state": {
       "_dom_classes": [
        "widget-interact"
       ],
       "children": [
        "IPY_MODEL_ed604d7727244b8b9522089d3a007709",
        "IPY_MODEL_6b3c479e81e746abbb9cea42ce67b7bc"
       ],
       "layout": "IPY_MODEL_415a4e729e8648ee8114497660ce0f68"
      }
     },
     "e07bdd688517441695d9600656bc4e2f": {
      "model_module": "@jupyter-widgets/base",
      "model_module_version": "1.2.0",
      "model_name": "LayoutModel",
      "state": {}
     },
     "e0bfa3e6cbe84735b3acfe085d3eb2a8": {
      "model_module": "@jupyter-widgets/controls",
      "model_module_version": "1.5.0",
      "model_name": "VBoxModel",
      "state": {
       "_dom_classes": [
        "widget-interact"
       ],
       "children": [
        "IPY_MODEL_9e6884f1ebe941568609cb6e09427541",
        "IPY_MODEL_c5b1e1601a2d40c59d8f2afbb477d105"
       ],
       "layout": "IPY_MODEL_8d396d89590f4149ba0b598e0910657f"
      }
     },
     "e1c6587d7168410b9a8dea820ba28d01": {
      "model_module": "@jupyter-widgets/base",
      "model_module_version": "1.2.0",
      "model_name": "LayoutModel",
      "state": {}
     },
     "e2cc2f943f964942b85e4a2538541e5c": {
      "model_module": "@jupyter-widgets/controls",
      "model_module_version": "1.5.0",
      "model_name": "FloatSliderModel",
      "state": {
       "description": "x:",
       "layout": "IPY_MODEL_7b289bbe3a52404e8d13c80d6bb0bc08",
       "max": 5,
       "min": -5,
       "step": 0.01,
       "style": "IPY_MODEL_1a436dbb02334925836603ca5d403506",
       "value": -0.69
      }
     },
     "e3e5a25decf64ecfa3d483270b8468a8": {
      "model_module": "@jupyter-widgets/controls",
      "model_module_version": "1.5.0",
      "model_name": "SliderStyleModel",
      "state": {
       "description_width": ""
      }
     },
     "e5b6bafe408348e1b6aa47db8feb1437": {
      "model_module": "@jupyter-widgets/controls",
      "model_module_version": "1.5.0",
      "model_name": "FloatSliderModel",
      "state": {
       "description": "x:",
       "layout": "IPY_MODEL_286bd8fa630a420eb6c56cf04d144d6d",
       "max": 5,
       "min": -5,
       "step": 0.01,
       "style": "IPY_MODEL_88c53129193f4ac19c17a51483d6f913",
       "value": 2.62
      }
     },
     "e6a05668456c488fb3c7b26161ad08ba": {
      "model_module": "jupyter-matplotlib",
      "model_module_version": "^0.7.4",
      "model_name": "MPLCanvasModel",
      "state": {
       "_cursor": "default",
       "_figure_label": "Figure 1",
       "_height": 400,
       "_image_mode": "diff",
       "_message": "x=−0.307 y=0.741",
       "_width": 800,
       "layout": "IPY_MODEL_70b197bff3d94e3599a402addec26afa",
       "toolbar": "IPY_MODEL_184b95ac9c8d45689441c6154d40bbee",
       "toolbar_position": "left"
      }
     },
     "e6a82285bbc44e309d9e9eb319994d94": {
      "model_module": "@jupyter-widgets/base",
      "model_module_version": "1.2.0",
      "model_name": "LayoutModel",
      "state": {}
     },
     "e6decd77ddfe4ef48b6f425e1202183e": {
      "model_module": "@jupyter-widgets/controls",
      "model_module_version": "1.5.0",
      "model_name": "SliderStyleModel",
      "state": {
       "description_width": ""
      }
     },
     "e7369289c8d541a4a1935f2b55c649ef": {
      "model_module": "@jupyter-widgets/output",
      "model_module_version": "1.0.0",
      "model_name": "OutputModel",
      "state": {
       "layout": "IPY_MODEL_9d6f127b059b499aa8c49acf8e5d134f"
      }
     },
     "e80f4135011848ca951896514ae25451": {
      "model_module": "@jupyter-widgets/base",
      "model_module_version": "1.2.0",
      "model_name": "LayoutModel",
      "state": {}
     },
     "ea33c399a9444d86813bebf4bb24bbd0": {
      "model_module": "@jupyter-widgets/controls",
      "model_module_version": "1.5.0",
      "model_name": "FloatSliderModel",
      "state": {
       "description": "x:",
       "layout": "IPY_MODEL_61a7bede487e4898afb02068b54fabe0",
       "max": 5,
       "min": -5,
       "step": 0.01,
       "style": "IPY_MODEL_359a36476af045bea09ac192c8d97f38",
       "value": -4.84
      }
     },
     "eb8fde8f9e6c45b88aacdba960192a8c": {
      "model_module": "@jupyter-widgets/controls",
      "model_module_version": "1.5.0",
      "model_name": "VBoxModel",
      "state": {
       "_dom_classes": [
        "widget-interact"
       ],
       "children": [
        "IPY_MODEL_b7bcf1bc862d41d9a15f057755a8c81a",
        "IPY_MODEL_897671894227489097ea88402e860fe7"
       ],
       "layout": "IPY_MODEL_12fb70b0b93f4c4995eba2be6e69080c"
      }
     },
     "ecbab2013ee0488daaa7b997954814fa": {
      "model_module": "jupyter-matplotlib",
      "model_module_version": "^0.7.4",
      "model_name": "ToolbarModel",
      "state": {
       "layout": "IPY_MODEL_3d98f46f32bc4e0f802778485e5fc50e",
       "toolitems": [
        [
         "Home",
         "Reset original view",
         "home",
         "home"
        ],
        [
         "Back",
         "Back to previous view",
         "arrow-left",
         "back"
        ],
        [
         "Forward",
         "Forward to next view",
         "arrow-right",
         "forward"
        ],
        [
         "Pan",
         "Left button pans, Right button zooms\nx/y fixes axis, CTRL fixes aspect",
         "arrows",
         "pan"
        ],
        [
         "Zoom",
         "Zoom to rectangle\nx/y fixes axis, CTRL fixes aspect",
         "square-o",
         "zoom"
        ],
        [
         "Download",
         "Download plot",
         "floppy-o",
         "save_figure"
        ]
       ]
      }
     },
     "ed14f64c4dcd4e2ca8e0794acdcacb5e": {
      "model_module": "@jupyter-widgets/controls",
      "model_module_version": "1.5.0",
      "model_name": "SliderStyleModel",
      "state": {
       "description_width": ""
      }
     },
     "ed4b2822af944602baa0dcfab3452a5e": {
      "model_module": "@jupyter-widgets/output",
      "model_module_version": "1.0.0",
      "model_name": "OutputModel",
      "state": {
       "layout": "IPY_MODEL_ceed9cefb4c34265ac049fc7022f6db4"
      }
     },
     "ed604d7727244b8b9522089d3a007709": {
      "model_module": "@jupyter-widgets/controls",
      "model_module_version": "1.5.0",
      "model_name": "FloatSliderModel",
      "state": {
       "description": "x:",
       "layout": "IPY_MODEL_e6a82285bbc44e309d9e9eb319994d94",
       "max": 5,
       "min": -5,
       "step": 0.01,
       "style": "IPY_MODEL_9c2e6e2661a3424498aab08a53e2df39",
       "value": -3.76
      }
     },
     "eea446e4d51941a19dae429d9e6e3768": {
      "model_module": "@jupyter-widgets/controls",
      "model_module_version": "1.5.0",
      "model_name": "VBoxModel",
      "state": {
       "_dom_classes": [
        "widget-interact"
       ],
       "children": [
        "IPY_MODEL_db84eabb607e4c2f943a95fb15114255",
        "IPY_MODEL_d30ce2250c2f4f28a1a404536f5c4397"
       ],
       "layout": "IPY_MODEL_76b58f7aadb34321b3f3f9f372b7ef62"
      }
     },
     "f123c5ba7f7d4965ac2459762165ce39": {
      "model_module": "@jupyter-widgets/base",
      "model_module_version": "1.2.0",
      "model_name": "LayoutModel",
      "state": {}
     },
     "f3403e1b26ff4a8f9c1755023c64e0b6": {
      "model_module": "@jupyter-widgets/controls",
      "model_module_version": "1.5.0",
      "model_name": "SliderStyleModel",
      "state": {
       "description_width": ""
      }
     },
     "f365953da7e54207a1cbeae6630eca33": {
      "model_module": "@jupyter-widgets/base",
      "model_module_version": "1.2.0",
      "model_name": "LayoutModel",
      "state": {}
     },
     "f42e4122ba184d5b9a666d8d6c529a96": {
      "model_module": "@jupyter-widgets/controls",
      "model_module_version": "1.5.0",
      "model_name": "VBoxModel",
      "state": {
       "_dom_classes": [
        "widget-interact"
       ],
       "children": [
        "IPY_MODEL_b28f93d086694357bb37efdd81689fb4",
        "IPY_MODEL_c61267dac4714a378b0ac085e475fc5d"
       ],
       "layout": "IPY_MODEL_c9bc84a1380f4ce4a5894a09edac220c"
      }
     },
     "f6e0fd33370e48baa4775e024663a5c4": {
      "model_module": "@jupyter-widgets/base",
      "model_module_version": "1.2.0",
      "model_name": "LayoutModel",
      "state": {}
     },
     "f6e45bea469c409588ba99bef7d4ab5b": {
      "model_module": "@jupyter-widgets/controls",
      "model_module_version": "1.5.0",
      "model_name": "VBoxModel",
      "state": {
       "_dom_classes": [
        "widget-interact"
       ],
       "children": [
        "IPY_MODEL_559c14aec4d94868b2a975fe60a5b298",
        "IPY_MODEL_c885a0ac8a3240e7bae3ce40a69ea840"
       ],
       "layout": "IPY_MODEL_ace8a4188d5d40028835b2b04de1d270"
      }
     },
     "f9002246e9a747598367f9421d3d1ac1": {
      "model_module": "@jupyter-widgets/base",
      "model_module_version": "1.2.0",
      "model_name": "LayoutModel",
      "state": {}
     },
     "f95925614e934ef3b5948305242bc8a0": {
      "model_module": "@jupyter-widgets/base",
      "model_module_version": "1.2.0",
      "model_name": "LayoutModel",
      "state": {}
     },
     "fa1ff6b267394252bbe8418616deebb4": {
      "model_module": "@jupyter-widgets/base",
      "model_module_version": "1.2.0",
      "model_name": "LayoutModel",
      "state": {}
     },
     "fa59b395f18e447d92c9dc8ff1414f00": {
      "model_module": "@jupyter-widgets/controls",
      "model_module_version": "1.5.0",
      "model_name": "FloatSliderModel",
      "state": {
       "description": "x:",
       "layout": "IPY_MODEL_d4e5e07e49b944f5a88242580694c7d7",
       "max": 5,
       "min": -5,
       "step": 0.01,
       "style": "IPY_MODEL_d04a56404ab042abb241da1d21165db9",
       "value": 2.29
      }
     },
     "fae7bbaee86543b0b44074d2954f5d0b": {
      "model_module": "@jupyter-widgets/controls",
      "model_module_version": "1.5.0",
      "model_name": "SliderStyleModel",
      "state": {
       "description_width": ""
      }
     },
     "fc2d8174653c4643aba87190132f99d8": {
      "model_module": "@jupyter-widgets/output",
      "model_module_version": "1.0.0",
      "model_name": "OutputModel",
      "state": {
       "layout": "IPY_MODEL_d70ed1ef0afc4787a01e047ac1c12948"
      }
     },
     "fc399c8ff09942e2bb18989633664f27": {
      "model_module": "@jupyter-widgets/controls",
      "model_module_version": "1.5.0",
      "model_name": "SliderStyleModel",
      "state": {
       "description_width": ""
      }
     },
     "fd56566dd4ab4ebd8162f27a01bb93ce": {
      "model_module": "@jupyter-widgets/controls",
      "model_module_version": "1.5.0",
      "model_name": "VBoxModel",
      "state": {
       "_dom_classes": [
        "widget-interact"
       ],
       "children": [
        "IPY_MODEL_69e7fa71fce14e3f8bb9b08f2e52d876",
        "IPY_MODEL_57a03d484be04d9b8b402e274a961173"
       ],
       "layout": "IPY_MODEL_3a6553c31c554573a3b6087caf851e1c"
      }
     },
     "fe0b7d4f41964cbab050d32e2a5ca650": {
      "model_module": "@jupyter-widgets/base",
      "model_module_version": "1.2.0",
      "model_name": "LayoutModel",
      "state": {}
     },
     "fe430a6cea5b4ec2aeb9c0123b542fb6": {
      "model_module": "jupyter-matplotlib",
      "model_module_version": "^0.7.4",
      "model_name": "ToolbarModel",
      "state": {
       "layout": "IPY_MODEL_c7079f944b4e41d0a6e923d52d1398c0",
       "toolitems": [
        [
         "Home",
         "Reset original view",
         "home",
         "home"
        ],
        [
         "Back",
         "Back to previous view",
         "arrow-left",
         "back"
        ],
        [
         "Forward",
         "Forward to next view",
         "arrow-right",
         "forward"
        ],
        [
         "Pan",
         "Left button pans, Right button zooms\nx/y fixes axis, CTRL fixes aspect",
         "arrows",
         "pan"
        ],
        [
         "Zoom",
         "Zoom to rectangle\nx/y fixes axis, CTRL fixes aspect",
         "square-o",
         "zoom"
        ],
        [
         "Download",
         "Download plot",
         "floppy-o",
         "save_figure"
        ]
       ]
      }
     },
     "ff589b47a86140fcbe23f2100a3a3bf1": {
      "model_module": "jupyter-matplotlib",
      "model_module_version": "^0.7.4",
      "model_name": "ToolbarModel",
      "state": {
       "layout": "IPY_MODEL_a2f29f9459c44c2bb01baca297ed0ee3",
       "toolitems": [
        [
         "Home",
         "Reset original view",
         "home",
         "home"
        ],
        [
         "Back",
         "Back to previous view",
         "arrow-left",
         "back"
        ],
        [
         "Forward",
         "Forward to next view",
         "arrow-right",
         "forward"
        ],
        [
         "Pan",
         "Left button pans, Right button zooms\nx/y fixes axis, CTRL fixes aspect",
         "arrows",
         "pan"
        ],
        [
         "Zoom",
         "Zoom to rectangle\nx/y fixes axis, CTRL fixes aspect",
         "square-o",
         "zoom"
        ],
        [
         "Download",
         "Download plot",
         "floppy-o",
         "save_figure"
        ]
       ]
      }
     }
    },
    "version_major": 2,
    "version_minor": 0
   }
  }
 },
 "nbformat": 4,
 "nbformat_minor": 4
}
